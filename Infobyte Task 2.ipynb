{
 "cells": [
  {
   "cell_type": "markdown",
   "id": "d709e389",
   "metadata": {},
   "source": [
    "# ROBIN DONAL "
   ]
  },
  {
   "cell_type": "markdown",
   "id": "03a6461d",
   "metadata": {},
   "source": [
    "# TASK - 2"
   ]
  },
  {
   "cell_type": "markdown",
   "id": "edd9058f",
   "metadata": {},
   "source": [
    "# SALES PREDICTION USING PYTHON "
   ]
  },
  {
   "cell_type": "code",
   "execution_count": 1,
   "id": "6ef3b356",
   "metadata": {},
   "outputs": [],
   "source": [
    "import numpy as np\n",
    "import pandas as pd\n",
    "import matplotlib.pyplot as plt\n",
    "from sklearn.model_selection import train_test_split\n",
    "from sklearn.linear_model import LinearRegression"
   ]
  },
  {
   "cell_type": "markdown",
   "id": "a5566833",
   "metadata": {},
   "source": [
    "# Reading the data set "
   ]
  },
  {
   "cell_type": "code",
   "execution_count": 3,
   "id": "7ca63557",
   "metadata": {},
   "outputs": [],
   "source": [
    "data = pd.read_csv(\"Advertising.csv\")"
   ]
  },
  {
   "cell_type": "code",
   "execution_count": 4,
   "id": "3d6948f0",
   "metadata": {},
   "outputs": [
    {
     "data": {
      "text/html": [
       "<div>\n",
       "<style scoped>\n",
       "    .dataframe tbody tr th:only-of-type {\n",
       "        vertical-align: middle;\n",
       "    }\n",
       "\n",
       "    .dataframe tbody tr th {\n",
       "        vertical-align: top;\n",
       "    }\n",
       "\n",
       "    .dataframe thead th {\n",
       "        text-align: right;\n",
       "    }\n",
       "</style>\n",
       "<table border=\"1\" class=\"dataframe\">\n",
       "  <thead>\n",
       "    <tr style=\"text-align: right;\">\n",
       "      <th></th>\n",
       "      <th>Unnamed: 0</th>\n",
       "      <th>TV</th>\n",
       "      <th>Radio</th>\n",
       "      <th>Newspaper</th>\n",
       "      <th>Sales</th>\n",
       "    </tr>\n",
       "  </thead>\n",
       "  <tbody>\n",
       "    <tr>\n",
       "      <th>0</th>\n",
       "      <td>1</td>\n",
       "      <td>230.1</td>\n",
       "      <td>37.8</td>\n",
       "      <td>69.2</td>\n",
       "      <td>22.1</td>\n",
       "    </tr>\n",
       "    <tr>\n",
       "      <th>1</th>\n",
       "      <td>2</td>\n",
       "      <td>44.5</td>\n",
       "      <td>39.3</td>\n",
       "      <td>45.1</td>\n",
       "      <td>10.4</td>\n",
       "    </tr>\n",
       "    <tr>\n",
       "      <th>2</th>\n",
       "      <td>3</td>\n",
       "      <td>17.2</td>\n",
       "      <td>45.9</td>\n",
       "      <td>69.3</td>\n",
       "      <td>9.3</td>\n",
       "    </tr>\n",
       "    <tr>\n",
       "      <th>3</th>\n",
       "      <td>4</td>\n",
       "      <td>151.5</td>\n",
       "      <td>41.3</td>\n",
       "      <td>58.5</td>\n",
       "      <td>18.5</td>\n",
       "    </tr>\n",
       "    <tr>\n",
       "      <th>4</th>\n",
       "      <td>5</td>\n",
       "      <td>180.8</td>\n",
       "      <td>10.8</td>\n",
       "      <td>58.4</td>\n",
       "      <td>12.9</td>\n",
       "    </tr>\n",
       "    <tr>\n",
       "      <th>...</th>\n",
       "      <td>...</td>\n",
       "      <td>...</td>\n",
       "      <td>...</td>\n",
       "      <td>...</td>\n",
       "      <td>...</td>\n",
       "    </tr>\n",
       "    <tr>\n",
       "      <th>195</th>\n",
       "      <td>196</td>\n",
       "      <td>38.2</td>\n",
       "      <td>3.7</td>\n",
       "      <td>13.8</td>\n",
       "      <td>7.6</td>\n",
       "    </tr>\n",
       "    <tr>\n",
       "      <th>196</th>\n",
       "      <td>197</td>\n",
       "      <td>94.2</td>\n",
       "      <td>4.9</td>\n",
       "      <td>8.1</td>\n",
       "      <td>9.7</td>\n",
       "    </tr>\n",
       "    <tr>\n",
       "      <th>197</th>\n",
       "      <td>198</td>\n",
       "      <td>177.0</td>\n",
       "      <td>9.3</td>\n",
       "      <td>6.4</td>\n",
       "      <td>12.8</td>\n",
       "    </tr>\n",
       "    <tr>\n",
       "      <th>198</th>\n",
       "      <td>199</td>\n",
       "      <td>283.6</td>\n",
       "      <td>42.0</td>\n",
       "      <td>66.2</td>\n",
       "      <td>25.5</td>\n",
       "    </tr>\n",
       "    <tr>\n",
       "      <th>199</th>\n",
       "      <td>200</td>\n",
       "      <td>232.1</td>\n",
       "      <td>8.6</td>\n",
       "      <td>8.7</td>\n",
       "      <td>13.4</td>\n",
       "    </tr>\n",
       "  </tbody>\n",
       "</table>\n",
       "<p>200 rows × 5 columns</p>\n",
       "</div>"
      ],
      "text/plain": [
       "     Unnamed: 0     TV  Radio  Newspaper  Sales\n",
       "0             1  230.1   37.8       69.2   22.1\n",
       "1             2   44.5   39.3       45.1   10.4\n",
       "2             3   17.2   45.9       69.3    9.3\n",
       "3             4  151.5   41.3       58.5   18.5\n",
       "4             5  180.8   10.8       58.4   12.9\n",
       "..          ...    ...    ...        ...    ...\n",
       "195         196   38.2    3.7       13.8    7.6\n",
       "196         197   94.2    4.9        8.1    9.7\n",
       "197         198  177.0    9.3        6.4   12.8\n",
       "198         199  283.6   42.0       66.2   25.5\n",
       "199         200  232.1    8.6        8.7   13.4\n",
       "\n",
       "[200 rows x 5 columns]"
      ]
     },
     "execution_count": 4,
     "metadata": {},
     "output_type": "execute_result"
    }
   ],
   "source": [
    "data"
   ]
  },
  {
   "cell_type": "markdown",
   "id": "4bde2ee0",
   "metadata": {},
   "source": [
    "# Split the data into training and testing sets "
   ]
  },
  {
   "cell_type": "code",
   "execution_count": 6,
   "id": "7777c9f5",
   "metadata": {},
   "outputs": [],
   "source": [
    "X = data['Newspaper'].values.reshape(-1, 1)\n",
    "y = data['Sales'].values"
   ]
  },
  {
   "cell_type": "code",
   "execution_count": 7,
   "id": "593b2199",
   "metadata": {},
   "outputs": [],
   "source": [
    "X_train, X_test, y_train, y_test = train_test_split(X, y, test_size=0.2, random_state=42)"
   ]
  },
  {
   "cell_type": "code",
   "execution_count": 8,
   "id": "ab20d1b3",
   "metadata": {},
   "outputs": [
    {
     "data": {
      "text/plain": [
       "array([[ 23.1],\n",
       "       [  6.4],\n",
       "       [ 35.1],\n",
       "       [ 18.3],\n",
       "       [ 15.6],\n",
       "       [ 13.8],\n",
       "       [ 40.8],\n",
       "       [ 19.1],\n",
       "       [ 34.4],\n",
       "       [ 16. ],\n",
       "       [ 34.5],\n",
       "       [ 12.8],\n",
       "       [ 75. ],\n",
       "       [ 50.6],\n",
       "       [ 14.8],\n",
       "       [ 31.3],\n",
       "       [ 12.9],\n",
       "       [ 51.2],\n",
       "       [ 17. ],\n",
       "       [  5.9],\n",
       "       [  6.4],\n",
       "       [ 22. ],\n",
       "       [ 38.6],\n",
       "       [ 65.9],\n",
       "       [  8.5],\n",
       "       [ 22.3],\n",
       "       [  1.8],\n",
       "       [ 23.4],\n",
       "       [  9.3],\n",
       "       [  9.3],\n",
       "       [  3.6],\n",
       "       [  9.2],\n",
       "       [ 25.6],\n",
       "       [ 38.7],\n",
       "       [ 79.2],\n",
       "       [ 10.7],\n",
       "       [ 12.6],\n",
       "       [  1.7],\n",
       "       [ 49.8],\n",
       "       [ 23.2],\n",
       "       [ 69.3],\n",
       "       [ 14.2],\n",
       "       [ 35.7],\n",
       "       [ 18.2],\n",
       "       [  6. ],\n",
       "       [ 65.7],\n",
       "       [ 49.3],\n",
       "       [  5. ],\n",
       "       [  5.8],\n",
       "       [ 54.7],\n",
       "       [ 49.6],\n",
       "       [ 75.6],\n",
       "       [100.9],\n",
       "       [  0.3],\n",
       "       [  4. ],\n",
       "       [  6. ],\n",
       "       [ 34.6],\n",
       "       [ 23.5],\n",
       "       [ 22.9],\n",
       "       [ 46.2],\n",
       "       [ 58.4],\n",
       "       [ 30. ],\n",
       "       [ 37.9],\n",
       "       [  9. ],\n",
       "       [  5.5],\n",
       "       [ 38.9],\n",
       "       [ 24.2],\n",
       "       [ 27.3],\n",
       "       [  2.4],\n",
       "       [  8.7],\n",
       "       [ 21.6],\n",
       "       [ 69.2],\n",
       "       [ 66.2],\n",
       "       [ 37.7],\n",
       "       [ 38.7],\n",
       "       [ 12.4],\n",
       "       [ 28.9],\n",
       "       [ 43.3],\n",
       "       [  7.4],\n",
       "       [ 22.9],\n",
       "       [ 31.6],\n",
       "       [ 25.6],\n",
       "       [  5.7],\n",
       "       [ 50.5],\n",
       "       [ 19.5],\n",
       "       [ 26.2],\n",
       "       [ 30. ],\n",
       "       [ 44.3],\n",
       "       [ 36.9],\n",
       "       [ 32. ],\n",
       "       [ 57.6],\n",
       "       [ 18.5],\n",
       "       [ 10.9],\n",
       "       [  9.5],\n",
       "       [ 26.4],\n",
       "       [ 20.5],\n",
       "       [ 58.5],\n",
       "       [ 59. ],\n",
       "       [ 58.7],\n",
       "       [ 45.1],\n",
       "       [  8.3],\n",
       "       [ 23.7],\n",
       "       [ 19.6],\n",
       "       [ 36.8],\n",
       "       [ 22.3],\n",
       "       [  7.4],\n",
       "       [ 11.6],\n",
       "       [ 56.5],\n",
       "       [ 33. ],\n",
       "       [ 35.6],\n",
       "       [ 20.3],\n",
       "       [ 27.4],\n",
       "       [ 51.4],\n",
       "       [  1. ],\n",
       "       [  7.2],\n",
       "       [  9.3],\n",
       "       [ 47.4],\n",
       "       [ 43. ],\n",
       "       [ 55.8],\n",
       "       [ 19.3],\n",
       "       [ 41.8],\n",
       "       [ 65.6],\n",
       "       [ 19.4],\n",
       "       [ 71.8],\n",
       "       [  8.4],\n",
       "       [ 15.9],\n",
       "       [ 23.2],\n",
       "       [ 34.6],\n",
       "       [  8.1],\n",
       "       [ 37.7],\n",
       "       [ 49.9],\n",
       "       [ 73.4],\n",
       "       [ 23.5],\n",
       "       [ 16.6],\n",
       "       [ 30.7],\n",
       "       [ 31.6],\n",
       "       [ 43.1],\n",
       "       [ 45.7],\n",
       "       [ 24.3],\n",
       "       [  3.6],\n",
       "       [ 45.1],\n",
       "       [ 39.6],\n",
       "       [ 20.6],\n",
       "       [  8.7],\n",
       "       [ 48.7],\n",
       "       [ 17.9],\n",
       "       [ 45.9],\n",
       "       [ 25.6],\n",
       "       [ 63.2],\n",
       "       [ 13.1],\n",
       "       [ 50.4],\n",
       "       [  8.7],\n",
       "       [ 53.4],\n",
       "       [  3.7],\n",
       "       [ 31.7],\n",
       "       [ 29.7],\n",
       "       [ 46. ],\n",
       "       [ 59. ],\n",
       "       [ 17.6],\n",
       "       [ 21.4]])"
      ]
     },
     "execution_count": 8,
     "metadata": {},
     "output_type": "execute_result"
    }
   ],
   "source": [
    "X_train"
   ]
  },
  {
   "cell_type": "code",
   "execution_count": 9,
   "id": "a6a50711",
   "metadata": {},
   "outputs": [
    {
     "data": {
      "text/plain": [
       "array([[ 52.9],\n",
       "       [ 52.9],\n",
       "       [ 43.2],\n",
       "       [ 45.2],\n",
       "       [  3.2],\n",
       "       [ 52.7],\n",
       "       [ 27.2],\n",
       "       [ 18.4],\n",
       "       [ 13.1],\n",
       "       [ 31.5],\n",
       "       [  2.2],\n",
       "       [ 29.7],\n",
       "       [ 84.8],\n",
       "       [  9.4],\n",
       "       [ 26.6],\n",
       "       [ 35.2],\n",
       "       [ 41.4],\n",
       "       [ 14.2],\n",
       "       [ 32.5],\n",
       "       [ 11. ],\n",
       "       [ 74.2],\n",
       "       [114. ],\n",
       "       [ 11.9],\n",
       "       [ 72.3],\n",
       "       [  0.9],\n",
       "       [ 21.4],\n",
       "       [ 33.8],\n",
       "       [ 10.2],\n",
       "       [ 25.9],\n",
       "       [  2.1],\n",
       "       [ 21.2],\n",
       "       [ 18.3],\n",
       "       [ 60. ],\n",
       "       [ 89.4],\n",
       "       [ 37. ],\n",
       "       [  5.3],\n",
       "       [  8.5],\n",
       "       [ 59.7],\n",
       "       [  5.4],\n",
       "       [ 20.7]])"
      ]
     },
     "execution_count": 9,
     "metadata": {},
     "output_type": "execute_result"
    }
   ],
   "source": [
    "X_test"
   ]
  },
  {
   "cell_type": "code",
   "execution_count": 10,
   "id": "aa949252",
   "metadata": {},
   "outputs": [
    {
     "data": {
      "text/plain": [
       "array([11. , 12.8, 10.1,  9.7, 11.6,  7.6, 10.5, 14.6, 10.4, 12. , 14.6,\n",
       "       11.7,  7.2,  6.6,  9.4, 11. , 10.9, 25.4,  7.6, 11.7, 15. , 15.5,\n",
       "       11.9,  9.2, 12.8,  6.6, 20.7,  6.7, 11.2,  9.5, 10.7,  8.8, 14.9,\n",
       "       17.1, 15.9, 15.9, 15. , 20.7, 11.7, 21.8,  9.3, 14.2, 10.6, 17.3,\n",
       "        9.9, 15.2, 13.3, 25.4, 10.8, 24.2,  5.6, 19.2, 23.8, 17.4, 17.4,\n",
       "       17.3, 12.9, 11.8, 15.9, 15.5, 12.9,  9.6, 20.1, 10.3, 19.8, 11.4,\n",
       "        8.6, 15.7, 14.1, 13.2,  8. , 22.1, 25.5, 19. , 18.3, 15.2, 18. ,\n",
       "        8.5, 18. , 18.9, 16.6,  5.3,  3.2, 15.3, 12. , 15.5, 17.6, 25.4,\n",
       "       12.3, 21.5, 17.1, 23.2, 11.5, 15.6, 12.9,  9.6, 18.5, 19.2, 21.2,\n",
       "       19.6, 10.5, 11.8, 22.6,  9.7, 11.8,  9.5, 13.2, 13.4,  7.3, 13.6,\n",
       "       20.2, 12.2, 16.7,  4.8,  9.7, 18.4, 14.5, 12.7, 24.4,  8.8, 27. ,\n",
       "       10.8, 12.2, 26.2, 14. , 20.2,  8.7, 11.4,  9.7, 23.8, 14.8, 12.9,\n",
       "       12.5, 13.2, 14.4,  5.9,  9.7, 14.7, 10.1, 19.6, 10.4, 22.6, 10.1,\n",
       "        1.6, 11.6, 14.7, 17.2, 12.2, 16. , 17. ,  7. , 13.4, 18. , 15.9,\n",
       "       12.4,  7.2, 19. , 19.4, 12.6, 14.8])"
      ]
     },
     "execution_count": 10,
     "metadata": {},
     "output_type": "execute_result"
    }
   ],
   "source": [
    "y_train"
   ]
  },
  {
   "cell_type": "code",
   "execution_count": 11,
   "id": "cc980446",
   "metadata": {},
   "outputs": [
    {
     "data": {
      "text/plain": [
       "array([16.9, 22.4, 21.4,  7.3, 24.7, 12.6, 22.3,  8.4, 11.5, 14.9,  9.5,\n",
       "        8.7, 11.9,  5.3, 10.3, 11.7,  5.5, 16.6, 11.3, 18.9, 19.7, 12.5,\n",
       "       10.9, 22.2,  9.3,  8.1, 21.7, 13.4, 10.6,  5.7, 10.6, 11.3, 23.7,\n",
       "        8.7, 16.1, 20.7, 11.6, 20.8, 11.9,  6.9])"
      ]
     },
     "execution_count": 11,
     "metadata": {},
     "output_type": "execute_result"
    }
   ],
   "source": [
    "y_test"
   ]
  },
  {
   "cell_type": "markdown",
   "id": "1be5136b",
   "metadata": {},
   "source": [
    "# Train the Linear Regression model"
   ]
  },
  {
   "cell_type": "code",
   "execution_count": 12,
   "id": "1f556447",
   "metadata": {},
   "outputs": [
    {
     "data": {
      "text/plain": [
       "LinearRegression()"
      ]
     },
     "execution_count": 12,
     "metadata": {},
     "output_type": "execute_result"
    }
   ],
   "source": [
    "model = LinearRegression()\n",
    "model.fit(X_train, y_train)"
   ]
  },
  {
   "cell_type": "code",
   "execution_count": 13,
   "id": "851d0389",
   "metadata": {},
   "outputs": [],
   "source": [
    "y_pred = model.predict(X_test)"
   ]
  },
  {
   "cell_type": "markdown",
   "id": "2280c170",
   "metadata": {},
   "source": [
    "# Visualize the results"
   ]
  },
  {
   "cell_type": "code",
   "execution_count": 14,
   "id": "ef33e3f6",
   "metadata": {},
   "outputs": [
    {
     "data": {
      "image/png": "[encoded data removed]",
      "text/plain": [
       "<Figure size 640x480 with 1 Axes>"
      ]
     },
     "metadata": {},
     "output_type": "display_data"
    }
   ],
   "source": [
    "plt.scatter(X_test, y_test, color='blue', label='Actual Sales')\n",
    "plt.plot(X_test, y_pred, color='red', label='Predicted Sales')\n",
    "plt.xlabel('Advertising Spend')\n",
    "plt.ylabel('Sales')\n",
    "plt.legend()\n",
    "plt.show()"
   ]
  },
  {
   "cell_type": "markdown",
   "id": "2de00e30",
   "metadata": {},
   "source": [
    "# Predict sales for new advertising spend"
   ]
  },
  {
   "cell_type": "code",
   "execution_count": 15,
   "id": "4ea7ace7",
   "metadata": {},
   "outputs": [
    {
     "name": "stdout",
     "output_type": "stream",
     "text": [
      "[ 72.06724621 131.82394409 191.58064197]\n"
     ]
    }
   ],
   "source": [
    "new_ad_spend = np.array([1000, 2000, 3000]).reshape(-1, 1)\n",
    "predicted_sales = model.predict(new_ad_spend)\n",
    "print(predicted_sales)"
   ]
  }
 ],
 "metadata": {
  "kernelspec": {
   "display_name": "Python 3 (ipykernel)",
   "language": "python",
   "name": "python3"
  },
  "language_info": {
   "codemirror_mode": {
    "name": "ipython",
    "version": 3
   },
   "file_extension": ".py",
   "mimetype": "text/x-python",
   "name": "python",
   "nbconvert_exporter": "python",
   "pygments_lexer": "ipython3",
   "version": "3.9.13"
  }
 },
 "nbformat": 4,
 "nbformat_minor": 5
}
